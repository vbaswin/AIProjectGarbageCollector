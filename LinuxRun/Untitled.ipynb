{
 "cells": [
  {
   "cell_type": "code",
   "execution_count": 3,
   "id": "95a7e120-902b-4994-af9d-9fd7665ec025",
   "metadata": {},
   "outputs": [
    {
     "name": "stdout",
     "output_type": "stream",
     "text": [
      "Cloning into 'yolov5'...\n",
      "remote: Enumerating objects: 16088, done.\u001b[K\n",
      "remote: Counting objects: 100% (32/32), done.\u001b[K\n",
      "remote: Compressing objects: 100% (30/30), done.\u001b[K\n",
      "remote: Total 16088 (delta 10), reused 14 (delta 2), pack-reused 16056\u001b[K\n",
      "Receiving objects: 100% (16088/16088), 14.72 MiB | 5.43 MiB/s, done.\n",
      "Resolving deltas: 100% (11042/11042), done.\n"
     ]
    }
   ],
   "source": [
    "!git clone https://github.com/ultralytics/yolov5"
   ]
  },
  {
   "cell_type": "code",
   "execution_count": 4,
   "id": "ecdb6a69-27a3-413f-8c74-e8fa07864876",
   "metadata": {},
   "outputs": [
    {
     "name": "stdout",
     "output_type": "stream",
     "text": [
      "/home/parallels/jupyter/GarbageCollector/yolov5\n"
     ]
    }
   ],
   "source": [
    "cd yolov5/"
   ]
  },
  {
   "cell_type": "code",
   "execution_count": 5,
   "id": "ebbe68f3-a5fc-4025-9d63-731a1c26337d",
   "metadata": {},
   "outputs": [
    {
     "name": "stdout",
     "output_type": "stream",
     "text": [
      "Collecting pickleshare\n",
      "  Downloading pickleshare-0.7.5-py2.py3-none-any.whl (6.9 kB)\n",
      "Installing collected packages: pickleshare\n",
      "Successfully installed pickleshare-0.7.5\n",
      "Note: you may need to restart the kernel to use updated packages.\n"
     ]
    }
   ],
   "source": [
    "pip install pickleshare\n"
   ]
  },
  {
   "cell_type": "code",
   "execution_count": 5,
   "id": "7fcb1fe5-cf98-4cfb-b448-2de8b5eb0b00",
   "metadata": {},
   "outputs": [
    {
     "data": {
      "text/plain": [
       "'/home/parallels/jupyter/GarbageCollector/yolov5'"
      ]
     },
     "execution_count": 5,
     "metadata": {},
     "output_type": "execute_result"
    }
   ],
   "source": [
    "pwd"
   ]
  },
  {
   "cell_type": "code",
   "execution_count": 6,
   "id": "148eccaa-6c43-488c-a146-e76c13af0d7d",
   "metadata": {},
   "outputs": [
    {
     "name": "stdout",
     "output_type": "stream",
     "text": [
      "Collecting gitpython>=3.1.30 (from -r requirements.txt (line 5))\n",
      "  Using cached GitPython-3.1.40-py3-none-any.whl.metadata (12 kB)\n",
      "Collecting matplotlib>=3.3 (from -r requirements.txt (line 6))\n",
      "  Using cached matplotlib-3.8.2-cp310-cp310-manylinux_2_17_aarch64.manylinux2014_aarch64.whl.metadata (5.8 kB)\n",
      "Collecting numpy>=1.22.2 (from -r requirements.txt (line 7))\n",
      "  Using cached numpy-1.26.2-cp310-cp310-manylinux_2_17_aarch64.manylinux2014_aarch64.whl.metadata (62 kB)\n",
      "Collecting opencv-python>=4.1.1 (from -r requirements.txt (line 8))\n",
      "  Using cached opencv_python-4.8.1.78-cp37-abi3-manylinux_2_17_aarch64.manylinux2014_aarch64.whl.metadata (19 kB)\n",
      "Collecting Pillow>=10.0.1 (from -r requirements.txt (line 9))\n",
      "  Downloading Pillow-10.1.0-cp310-cp310-manylinux_2_28_aarch64.whl.metadata (9.5 kB)\n",
      "Requirement already satisfied: psutil in /home/parallels/jupyter/environment/lib/python3.10/site-packages (from -r requirements.txt (line 10)) (5.9.6)\n",
      "Requirement already satisfied: PyYAML>=5.3.1 in /home/parallels/jupyter/environment/lib/python3.10/site-packages (from -r requirements.txt (line 11)) (6.0.1)\n",
      "Requirement already satisfied: requests>=2.23.0 in /home/parallels/jupyter/environment/lib/python3.10/site-packages (from -r requirements.txt (line 12)) (2.31.0)\n",
      "Collecting scipy>=1.4.1 (from -r requirements.txt (line 13))\n",
      "  Using cached scipy-1.11.4-cp310-cp310-manylinux_2_17_aarch64.manylinux2014_aarch64.whl.metadata (112 kB)\n",
      "Collecting thop>=0.1.1 (from -r requirements.txt (line 14))\n",
      "  Downloading thop-0.1.1.post2209072238-py3-none-any.whl (15 kB)\n",
      "Collecting torch>=1.8.0 (from -r requirements.txt (line 15))\n",
      "  Using cached torch-2.1.1-cp310-cp310-manylinux2014_aarch64.whl.metadata (25 kB)\n",
      "Collecting torchvision>=0.9.0 (from -r requirements.txt (line 16))\n",
      "  Using cached torchvision-0.16.1-cp310-cp310-manylinux2014_aarch64.whl.metadata (6.6 kB)\n",
      "Collecting tqdm>=4.64.0 (from -r requirements.txt (line 17))\n",
      "  Downloading tqdm-4.66.1-py3-none-any.whl.metadata (57 kB)\n",
      "\u001b[2K     \u001b[38;2;114;156;31m━━━━━━━━━━━━━━━━━━━━━━━━━━━━━━━━━━━━━━━━\u001b[0m \u001b[32m57.6/57.6 kB\u001b[0m \u001b[31m1.7 MB/s\u001b[0m eta \u001b[36m0:00:00\u001b[0m\n",
      "\u001b[?25hCollecting ultralytics>=8.0.147 (from -r requirements.txt (line 18))\n",
      "  Downloading ultralytics-8.0.222-py3-none-any.whl.metadata (32 kB)\n",
      "Collecting pandas>=1.1.4 (from -r requirements.txt (line 27))\n",
      "  Using cached pandas-2.1.3-cp310-cp310-manylinux_2_17_aarch64.manylinux2014_aarch64.whl.metadata (18 kB)\n",
      "Collecting seaborn>=0.11.0 (from -r requirements.txt (line 28))\n",
      "  Using cached seaborn-0.13.0-py3-none-any.whl.metadata (5.3 kB)\n",
      "Requirement already satisfied: setuptools>=65.5.1 in /home/parallels/jupyter/environment/lib/python3.10/site-packages (from -r requirements.txt (line 42)) (69.0.2)\n",
      "Collecting gitdb<5,>=4.0.1 (from gitpython>=3.1.30->-r requirements.txt (line 5))\n",
      "  Using cached gitdb-4.0.11-py3-none-any.whl.metadata (1.2 kB)\n",
      "Collecting contourpy>=1.0.1 (from matplotlib>=3.3->-r requirements.txt (line 6))\n",
      "  Using cached contourpy-1.2.0-cp310-cp310-manylinux_2_17_aarch64.manylinux2014_aarch64.whl.metadata (5.8 kB)\n",
      "Collecting cycler>=0.10 (from matplotlib>=3.3->-r requirements.txt (line 6))\n",
      "  Using cached cycler-0.12.1-py3-none-any.whl.metadata (3.8 kB)\n",
      "Collecting fonttools>=4.22.0 (from matplotlib>=3.3->-r requirements.txt (line 6))\n",
      "  Downloading fonttools-4.46.0-cp310-cp310-manylinux_2_17_aarch64.manylinux2014_aarch64.whl.metadata (156 kB)\n",
      "\u001b[2K     \u001b[38;2;114;156;31m━━━━━━━━━━━━━━━━━━━━━━━━━━━━━━━━━━━━━━━\u001b[0m \u001b[32m156.2/156.2 kB\u001b[0m \u001b[31m4.3 MB/s\u001b[0m eta \u001b[36m0:00:00\u001b[0m[36m0:00:01\u001b[0m\n",
      "\u001b[?25hCollecting kiwisolver>=1.3.1 (from matplotlib>=3.3->-r requirements.txt (line 6))\n",
      "  Using cached kiwisolver-1.4.5-cp310-cp310-manylinux_2_17_aarch64.manylinux2014_aarch64.whl.metadata (6.4 kB)\n",
      "Requirement already satisfied: packaging>=20.0 in /home/parallels/jupyter/environment/lib/python3.10/site-packages (from matplotlib>=3.3->-r requirements.txt (line 6)) (23.2)\n",
      "Collecting pyparsing>=2.3.1 (from matplotlib>=3.3->-r requirements.txt (line 6))\n",
      "  Downloading pyparsing-3.1.1-py3-none-any.whl.metadata (5.1 kB)\n",
      "Requirement already satisfied: python-dateutil>=2.7 in /home/parallels/jupyter/environment/lib/python3.10/site-packages (from matplotlib>=3.3->-r requirements.txt (line 6)) (2.8.2)\n",
      "Requirement already satisfied: charset-normalizer<4,>=2 in /home/parallels/jupyter/environment/lib/python3.10/site-packages (from requests>=2.23.0->-r requirements.txt (line 12)) (3.3.2)\n",
      "Requirement already satisfied: idna<4,>=2.5 in /home/parallels/jupyter/environment/lib/python3.10/site-packages (from requests>=2.23.0->-r requirements.txt (line 12)) (3.6)\n",
      "Requirement already satisfied: urllib3<3,>=1.21.1 in /home/parallels/jupyter/environment/lib/python3.10/site-packages (from requests>=2.23.0->-r requirements.txt (line 12)) (2.1.0)\n",
      "Requirement already satisfied: certifi>=2017.4.17 in /home/parallels/jupyter/environment/lib/python3.10/site-packages (from requests>=2.23.0->-r requirements.txt (line 12)) (2023.11.17)\n",
      "Collecting filelock (from torch>=1.8.0->-r requirements.txt (line 15))\n",
      "  Using cached filelock-3.13.1-py3-none-any.whl.metadata (2.8 kB)\n",
      "Requirement already satisfied: typing-extensions in /home/parallels/jupyter/environment/lib/python3.10/site-packages (from torch>=1.8.0->-r requirements.txt (line 15)) (4.8.0)\n",
      "Collecting sympy (from torch>=1.8.0->-r requirements.txt (line 15))\n",
      "  Using cached sympy-1.12-py3-none-any.whl (5.7 MB)\n",
      "Collecting networkx (from torch>=1.8.0->-r requirements.txt (line 15))\n",
      "  Using cached networkx-3.2.1-py3-none-any.whl.metadata (5.2 kB)\n",
      "Requirement already satisfied: jinja2 in /home/parallels/jupyter/environment/lib/python3.10/site-packages (from torch>=1.8.0->-r requirements.txt (line 15)) (3.1.2)\n",
      "Collecting fsspec (from torch>=1.8.0->-r requirements.txt (line 15))\n",
      "  Downloading fsspec-2023.12.1-py3-none-any.whl.metadata (6.8 kB)\n",
      "Collecting py-cpuinfo (from ultralytics>=8.0.147->-r requirements.txt (line 18))\n",
      "  Downloading py_cpuinfo-9.0.0-py3-none-any.whl (22 kB)\n",
      "Collecting pytz>=2020.1 (from pandas>=1.1.4->-r requirements.txt (line 27))\n",
      "  Downloading pytz-2023.3.post1-py2.py3-none-any.whl.metadata (22 kB)\n",
      "Collecting tzdata>=2022.1 (from pandas>=1.1.4->-r requirements.txt (line 27))\n",
      "  Using cached tzdata-2023.3-py2.py3-none-any.whl (341 kB)\n",
      "Collecting smmap<6,>=3.0.1 (from gitdb<5,>=4.0.1->gitpython>=3.1.30->-r requirements.txt (line 5))\n",
      "  Using cached smmap-5.0.1-py3-none-any.whl.metadata (4.3 kB)\n",
      "Requirement already satisfied: six>=1.5 in /home/parallels/jupyter/environment/lib/python3.10/site-packages (from python-dateutil>=2.7->matplotlib>=3.3->-r requirements.txt (line 6)) (1.16.0)\n",
      "Requirement already satisfied: MarkupSafe>=2.0 in /home/parallels/jupyter/environment/lib/python3.10/site-packages (from jinja2->torch>=1.8.0->-r requirements.txt (line 15)) (2.1.3)\n",
      "Collecting mpmath>=0.19 (from sympy->torch>=1.8.0->-r requirements.txt (line 15))\n",
      "  Using cached mpmath-1.3.0-py3-none-any.whl (536 kB)\n",
      "Using cached GitPython-3.1.40-py3-none-any.whl (190 kB)\n",
      "Using cached matplotlib-3.8.2-cp310-cp310-manylinux_2_17_aarch64.manylinux2014_aarch64.whl (11.4 MB)\n",
      "Using cached numpy-1.26.2-cp310-cp310-manylinux_2_17_aarch64.manylinux2014_aarch64.whl (14.2 MB)\n",
      "Using cached opencv_python-4.8.1.78-cp37-abi3-manylinux_2_17_aarch64.manylinux2014_aarch64.whl (41.0 MB)\n",
      "Downloading Pillow-10.1.0-cp310-cp310-manylinux_2_28_aarch64.whl (3.5 MB)\n",
      "\u001b[2K   \u001b[38;2;114;156;31m━━━━━━━━━━━━━━━━━━━━━━━━━━━━━━━━━━━━━━━━\u001b[0m \u001b[32m3.5/3.5 MB\u001b[0m \u001b[31m9.4 MB/s\u001b[0m eta \u001b[36m0:00:00\u001b[0m[31m9.6 MB/s\u001b[0m eta \u001b[36m0:00:01\u001b[0mm\n",
      "\u001b[?25hUsing cached scipy-1.11.4-cp310-cp310-manylinux_2_17_aarch64.manylinux2014_aarch64.whl (32.9 MB)\n",
      "Using cached torch-2.1.1-cp310-cp310-manylinux2014_aarch64.whl (84.1 MB)\n",
      "Using cached torchvision-0.16.1-cp310-cp310-manylinux2014_aarch64.whl (14.0 MB)\n",
      "Downloading tqdm-4.66.1-py3-none-any.whl (78 kB)\n",
      "\u001b[2K   \u001b[38;2;114;156;31m━━━━━━━━━━━━━━━━━━━━━━━━━━━━━━━━━━━━━━━━\u001b[0m \u001b[32m78.3/78.3 kB\u001b[0m \u001b[31m5.3 MB/s\u001b[0m eta \u001b[36m0:00:00\u001b[0m\n",
      "\u001b[?25hDownloading ultralytics-8.0.222-py3-none-any.whl (653 kB)\n",
      "\u001b[2K   \u001b[38;2;114;156;31m━━━━━━━━━━━━━━━━━━━━━━━━━━━━━━━━━━━━━━━━\u001b[0m \u001b[32m654.0/654.0 kB\u001b[0m \u001b[31m13.5 MB/s\u001b[0m eta \u001b[36m0:00:00\u001b[0m MB/s\u001b[0m eta \u001b[36m0:00:01\u001b[0m\n",
      "\u001b[?25hUsing cached pandas-2.1.3-cp310-cp310-manylinux_2_17_aarch64.manylinux2014_aarch64.whl (14.8 MB)\n",
      "Using cached seaborn-0.13.0-py3-none-any.whl (294 kB)\n",
      "Using cached contourpy-1.2.0-cp310-cp310-manylinux_2_17_aarch64.manylinux2014_aarch64.whl (293 kB)\n",
      "Using cached cycler-0.12.1-py3-none-any.whl (8.3 kB)\n",
      "Downloading fonttools-4.46.0-cp310-cp310-manylinux_2_17_aarch64.manylinux2014_aarch64.whl (4.5 MB)\n",
      "\u001b[2K   \u001b[38;2;114;156;31m━━━━━━━━━━━━━━━━━━━━━━━━━━━━━━━━━━━━━━━━\u001b[0m \u001b[32m4.5/4.5 MB\u001b[0m \u001b[31m11.0 MB/s\u001b[0m eta \u001b[36m0:00:00\u001b[0mm eta \u001b[36m0:00:01\u001b[0m[36m0:00:01\u001b[0m\n",
      "\u001b[?25hUsing cached gitdb-4.0.11-py3-none-any.whl (62 kB)\n",
      "Using cached kiwisolver-1.4.5-cp310-cp310-manylinux_2_17_aarch64.manylinux2014_aarch64.whl (1.4 MB)\n",
      "Downloading pyparsing-3.1.1-py3-none-any.whl (103 kB)\n",
      "\u001b[2K   \u001b[38;2;114;156;31m━━━━━━━━━━━━━━━━━━━━━━━━━━━━━━━━━━━━━━━━\u001b[0m \u001b[32m103.1/103.1 kB\u001b[0m \u001b[31m13.6 MB/s\u001b[0m eta \u001b[36m0:00:00\u001b[0m\n",
      "\u001b[?25hDownloading pytz-2023.3.post1-py2.py3-none-any.whl (502 kB)\n",
      "\u001b[2K   \u001b[38;2;114;156;31m━━━━━━━━━━━━━━━━━━━━━━━━━━━━━━━━━━━━━━━━\u001b[0m \u001b[32m502.5/502.5 kB\u001b[0m \u001b[31m14.4 MB/s\u001b[0m eta \u001b[36m0:00:00\u001b[0mm eta \u001b[36m0:00:01\u001b[0m\n",
      "\u001b[?25hUsing cached filelock-3.13.1-py3-none-any.whl (11 kB)\n",
      "Downloading fsspec-2023.12.1-py3-none-any.whl (168 kB)\n",
      "\u001b[2K   \u001b[38;2;114;156;31m━━━━━━━━━━━━━━━━━━━━━━━━━━━━━━━━━━━━━━━━\u001b[0m \u001b[32m168.9/168.9 kB\u001b[0m \u001b[31m13.3 MB/s\u001b[0m eta \u001b[36m0:00:00\u001b[0m\n",
      "\u001b[?25hUsing cached networkx-3.2.1-py3-none-any.whl (1.6 MB)\n",
      "Using cached smmap-5.0.1-py3-none-any.whl (24 kB)\n",
      "Installing collected packages: pytz, py-cpuinfo, mpmath, tzdata, tqdm, sympy, smmap, pyparsing, Pillow, numpy, networkx, kiwisolver, fsspec, fonttools, filelock, cycler, torch, scipy, pandas, opencv-python, gitdb, contourpy, torchvision, thop, matplotlib, gitpython, seaborn, ultralytics\n",
      "Successfully installed Pillow-10.1.0 contourpy-1.2.0 cycler-0.12.1 filelock-3.13.1 fonttools-4.46.0 fsspec-2023.12.1 gitdb-4.0.11 gitpython-3.1.40 kiwisolver-1.4.5 matplotlib-3.8.2 mpmath-1.3.0 networkx-3.2.1 numpy-1.26.2 opencv-python-4.8.1.78 pandas-2.1.3 py-cpuinfo-9.0.0 pyparsing-3.1.1 pytz-2023.3.post1 scipy-1.11.4 seaborn-0.13.0 smmap-5.0.1 sympy-1.12 thop-0.1.1.post2209072238 torch-2.1.1 torchvision-0.16.1 tqdm-4.66.1 tzdata-2023.3 ultralytics-8.0.222\n",
      "Note: you may need to restart the kernel to use updated packages.\n"
     ]
    }
   ],
   "source": [
    "pip install -r requirements.txt"
   ]
  },
  {
   "cell_type": "code",
   "execution_count": 7,
   "id": "6ce530fc-e8c5-41c1-8ed1-e9121165f1f2",
   "metadata": {},
   "outputs": [],
   "source": [
    "from PIL import Image\n",
    "import torch\n"
   ]
  },
  {
   "cell_type": "code",
   "execution_count": 8,
   "id": "758c423c-fab5-468c-8510-cd1e0793aa54",
   "metadata": {},
   "outputs": [
    {
     "name": "stderr",
     "output_type": "stream",
     "text": [
      "/home/parallels/jupyter/environment/lib/python3.10/site-packages/torch/hub.py:294: UserWarning: You are about to download and run code from an untrusted repository. In a future release, this won't be allowed. To add the repository to your trusted list, change the command to {calling_fn}(..., trust_repo=False) and a command prompt will appear asking for an explicit confirmation of trust, or load(..., trust_repo=True), which will assume that the prompt is to be answered with 'yes'. You can also use load(..., trust_repo='check') which will only prompt for confirmation if the repo is not already trusted. This will eventually be the default behaviour\n",
      "  warnings.warn(\n",
      "Downloading: \"https://github.com/ultralytics/yolov5/zipball/master\" to /home/parallels/.cache/torch/hub/master.zip\n",
      "YOLOv5 🚀 2023-12-7 Python-3.10.12 torch-2.1.1 CPU\n",
      "\n",
      "Fusing layers... \n",
      "Model summary: 291 layers, 20891523 parameters, 0 gradients, 48.3 GFLOPs\n",
      "Adding AutoShape... \n"
     ]
    }
   ],
   "source": [
    "model = torch.hub.load('ultralytics/yolov5', 'custom', path='best.pt', force_reload=True)"
   ]
  },
  {
   "cell_type": "code",
   "execution_count": 10,
   "id": "0476c66c-8af8-49ef-b124-37a3ba1a3ef2",
   "metadata": {},
   "outputs": [],
   "source": [
    "model.conf = 0.25  # NMS confidence threshold\n",
    "model.iou = 0.45  # NMS IoU threshold\n",
    "model.agnostic = False  # NMS class-agnostic\n",
    "model.multi_label = False  # NMS multiple labels per box\n",
    "model.max_det = 1000  # maximum number of detections per image"
   ]
  },
  {
   "cell_type": "code",
   "execution_count": 58,
   "id": "d13e2fad-9cf7-45d4-a991-28db83e19e30",
   "metadata": {},
   "outputs": [
    {
     "data": {
      "image/jpeg": "[encoded data removed]",
      "image/png": "[encoded data removed]",
      "text/plain": [
       "<PIL.Image.Image image mode=RGB size=275x183>"
      ]
     },
     "metadata": {},
     "output_type": "display_data"
    },
    {
     "name": "stderr",
     "output_type": "stream",
     "text": [
      "image 1/1: 183x275 1 paper\n",
      "Speed: 2.8ms pre-process, 940.4ms inference, 0.5ms NMS per image at shape (1, 3, 448, 640)\n"
     ]
    }
   ],
   "source": [
    "img = Image.open('images/single/paper.jpg')\n",
    "img\n",
    "\n",
    "results = model(img)\n",
    "results.show()\n",
    "results.print()\n",
    "\n"
   ]
  },
  {
   "cell_type": "code",
   "execution_count": 59,
   "id": "887c9f8e-f0d3-4055-8314-41ae8da7888a",
   "metadata": {},
   "outputs": [],
   "source": [
    "import numpy as np"
   ]
  },
  {
   "cell_type": "code",
   "execution_count": 82,
   "id": "b2da8880-a92e-46db-b7d8-7b46a6db2a7d",
   "metadata": {},
   "outputs": [],
   "source": [
    "\n",
    "class GarbageSorter:\n",
    "\n",
    "    def __init__(self, garbageName: str, confidence: float, bbox: np.ndarray):\n",
    "        self.garbageName = garbageName\n",
    "        self.confidence = confidence \n",
    "        self.bbox = bbox\n",
    "        \n",
    "        self.inductiveSensor = 0.0\n",
    "        self.moistureSensor = 0\n",
    "        self.inductiveThreshold = 5.0\n",
    "        self.moistureThreshold = 30 \n",
    "        \n",
    "    def display(self):\n",
    "        print(self.garbageName)\n",
    "        print(self.confidence)  \n",
    "        print(self.bbox)\n",
    "\n"
   ]
  },
  {
   "cell_type": "code",
   "execution_count": 84,
   "id": "9a61878a-269b-4339-b2bf-eae48eaa2c40",
   "metadata": {},
   "outputs": [
    {
     "name": "stdout",
     "output_type": "stream",
     "text": [
      "4\n",
      "paper\n",
      "0.5656622648239136\n",
      "[     18.857      47.308      241.99      150.54]\n"
     ]
    }
   ],
   "source": [
    "# Assuming results is the output of the model for a specific image\n",
    "for det in results.xyxy[0]:\n",
    "    class_index = int(det[-1])  # Class index\n",
    "    class_label = model.names[class_index]  # Class label\n",
    "    confidence = det[-2].item()  # Confidence score\n",
    "    bbox = det[:-2].cpu().numpy()  # Bounding box coordinates (xmin, ymin, xmax, ymax)\n",
    "    # print(class_index)\n",
    "    # print(f\"Class: {class_label}, Confidence: {confidence}, Bounding Box: {bbox}\")\n",
    "    # print(class_label, confidence, bbox)\n",
    "    # print(type(bbox))\n",
    "\n",
    "# print(confidence)\n",
    "newGarbage = GarbageSorter(class_label, confidence, bbox)\n",
    "newGarbage.display()"
   ]
  },
  {
   "cell_type": "code",
   "execution_count": null,
   "id": "fd65c768-b441-486c-bd5f-e1020957fcc4",
   "metadata": {},
   "outputs": [],
   "source": []
  }
 ],
 "metadata": {
  "kernelspec": {
   "display_name": "Python 3 (ipykernel)",
   "language": "python",
   "name": "python3"
  },
  "language_info": {
   "codemirror_mode": {
    "name": "ipython",
    "version": 3
   },
   "file_extension": ".py",
   "mimetype": "text/x-python",
   "name": "python",
   "nbconvert_exporter": "python",
   "pygments_lexer": "ipython3",
   "version": "3.10.12"
  }
 },
 "nbformat": 4,
 "nbformat_minor": 5
}
